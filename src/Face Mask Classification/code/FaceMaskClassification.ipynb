{
  "nbformat": 4,
  "nbformat_minor": 0,
  "metadata": {
    "colab": {
      "name": "FaceMaskClassification.ipynb",
      "provenance": [],
      "collapsed_sections": [],
      "toc_visible": true
    },
    "kernelspec": {
      "name": "python3",
      "display_name": "Python 3"
    },
    "accelerator": "GPU"
  },
  "cells": [
    {
      "cell_type": "markdown",
      "metadata": {
        "id": "pebMbVou1ypQ"
      },
      "source": [
        "# Loading data \n",
        "\n",
        "In this section, a \".zip\" file is loaded with the images, both training and test, to be able to build the model and test its efficiency. \n",
        "\n",
        "It also loads the \". csv\" file  with test labels, which were provided at the end of the Kaggle competition, to evaluate the efficiency of the classifier.\n",
        "\n",
        "In drive, both the \".zip\" file and the \".csv\" file were uploaded and shared by any user who has the link to the aforementioned files.\n",
        "\n",
        "\n"
      ]
    },
    {
      "cell_type": "code",
      "metadata": {
        "colab": {
          "base_uri": "https://localhost:8080/"
        },
        "id": "CgiNzQXM9uxH",
        "outputId": "49128a9d-63ee-4960-ae63-229278ba225f"
      },
      "source": [
        "# Through !gdown proceeds to download the '.zip' file which is at that address \n",
        "# And the data is saved in the Files section of 'google colab'\n",
        "!gdown https://drive.google.com/u/0/uc?id=1qe1ER8kMGQzRvWrJrJf9frgoKnK1ufwU\n",
        "!echo \"unzipping\"\n",
        "# By !unzip the data in the '.zip' file is decompressed\n",
        "!unzip -q data.zip\n",
        "!echo \"removing trash\"\n",
        "!rm data.zip\n",
        "# Through !gdown proceeds to download the file '.csv' that is at that address \n",
        "# And that file is saved in the Files section of 'google colab'\n",
        "!gdown https://drive.google.com/u/0/uc?id=1tyLFGrFbbY8_QHKDbkzXxlhY3s5H9RGq"
      ],
      "execution_count": null,
      "outputs": [
        {
          "output_type": "stream",
          "text": [
            "Downloading...\n",
            "From: https://drive.google.com/u/0/uc?id=1qe1ER8kMGQzRvWrJrJf9frgoKnK1ufwU\n",
            "To: /content/data.zip\n",
            "82.7MB [00:01, 74.1MB/s]\n",
            "unzipping\n",
            "removing trash\n",
            "Downloading...\n",
            "From: https://drive.google.com/u/0/uc?id=1tyLFGrFbbY8_QHKDbkzXxlhY3s5H9RGq\n",
            "To: /content/testLabels.csv\n",
            "100% 9.59k/9.59k [00:00<00:00, 16.1MB/s]\n"
          ],
          "name": "stdout"
        }
      ]
    },
    {
      "cell_type": "markdown",
      "metadata": {
        "id": "1T0NXH9q-cd5"
      },
      "source": [
        "#Libraries \n",
        "\n",
        "In this section the libraries to be used during the code are loaded.\n",
        "\n",
        "It also checks whether the runtime environment being used is \"cuda\", that is, whether a \"GPU hardware accelerator\" is being used, or whether it is being used as a \"cpu\" runtime environment. \n",
        "\n",
        "In this case to work with neural networks it is better to work with \"cuda\" since a high computational capacity is needed for training and subsequent analysis of images.\n"
      ]
    },
    {
      "cell_type": "code",
      "metadata": {
        "colab": {
          "base_uri": "https://localhost:8080/"
        },
        "id": "OWfj3AzD-YVG",
        "outputId": "1ccc0dd5-8bf1-4c2b-b2bb-f083a4f6cfa6"
      },
      "source": [
        "# Numpy\n",
        "import numpy  as np\n",
        "\n",
        "# Pandas\n",
        "import pandas as pd\n",
        "\n",
        "# Matplotlib\n",
        "import matplotlib.pyplot as plt \n",
        "plt.style.use('default')\n",
        "\n",
        "# Itertools\n",
        "import itertools\n",
        "\n",
        "# PyTorch\n",
        "import torch\n",
        "import torch.nn as nn\n",
        "import torch.nn.functional as F \n",
        "import torch.optim as optim\n",
        "from torch.utils.data import DataLoader, SubsetRandomSampler\n",
        "from torch.utils.data import sampler\n",
        "import torchvision\n",
        "import torchvision.datasets as dset\n",
        "\n",
        "from torchvision import transforms, utils, datasets\n",
        "\n",
        "# Function to load images in the Prediction section\n",
        "from PIL import *\n",
        "from torch.autograd import Variable\n",
        "\n",
        "# To paint the ROC curve\n",
        "from sklearn.metrics import roc_curve, auc\n",
        "from sklearn.metrics import roc_auc_score\n",
        "\n",
        "# To paint the confusion matrix\n",
        "from sklearn.metrics import confusion_matrix\n",
        "\n",
        "\n",
        "device = torch.device(\"cuda\" if torch.cuda.is_available() else \"cpu\")\n",
        "print(\"We're using =>\", device)\n",
        "root_dir = './data/'"
      ],
      "execution_count": null,
      "outputs": [
        {
          "output_type": "stream",
          "text": [
            "We're using => cuda\n"
          ],
          "name": "stdout"
        }
      ]
    },
    {
      "cell_type": "markdown",
      "metadata": {
        "id": "Y9FbYXkH-fVU"
      },
      "source": [
        "# Transformations and Creation of Training and Validation Data\n",
        "\n",
        "This section defines the transformations that are applied on the training set and on the test set.\n",
        "\n",
        "In both sets, both in the training images and in the set of test images, the following transformations are applied:\n",
        "\n",
        "*   transforms.Resize (size=(150,150)) --> So that all images have the same size 150 x 150. \n",
        "*   transforms.ToTensor() --> To turn each image into a tensor and work with the images afterwards.\n",
        "*   Transforms.Normalize([0.485, 0.456, 0.406],                              [0.229, 0.224, 0.225]) --> To have a certain independence from the properties of the image, such as brightness and contrast, and to be able to compare fingerprints by their quality index (QI).\n",
        "\n",
        "On the other hand, in the training set, in the images of \"train\", in addition other transformations are applied in order that, during the training stage, the model does not learn a pixel in the same way, but learns it in different ways, which helps to create a model that provides more reliable results.\n",
        "\n",
        "These transformations are as follows:\n",
        "\n",
        "*   transforms.RandomRotation(degrees=15) --> To apply a random rotation of the image of about 15 degrees.\n",
        "*   transforms.ColorJitter() --> To alter the color of the image.\n",
        "\n",
        "*   transforms.RandomHorizontalFlip() --> To perform a random horizontal flip on each image.\n",
        "\n",
        "After creating the transformations for the training set and for the test set, the training images are taken using the Python function \"datasets.ImageFolder\" in which the direction of the training images is indicated and their transformations are applied.\n",
        "\n",
        "Finally, the data is separated into \"train_loader\" training set and \"val_loader\" validation set to work with them during training and thus train the created model.\n"
      ]
    },
    {
      "cell_type": "code",
      "metadata": {
        "id": "yF2h9SJ8-alJ"
      },
      "source": [
        "# Transformations for training images.\n",
        "image_transforms_train =    transforms.Compose([\n",
        "        transforms.Resize(size=(150,150)),\n",
        "        transforms.RandomRotation(degrees=15),\n",
        "        transforms.ColorJitter(),\n",
        "        transforms.RandomHorizontalFlip(),\n",
        "        transforms.ToTensor(),\n",
        "        transforms.Normalize([0.485, 0.456, 0.406],\n",
        "                             [0.229, 0.224, 0.225]) \n",
        "    ])\n",
        "\n",
        "# Transformations for test images. \n",
        "image_transforms_test =  transforms.Compose([\n",
        "        transforms.Resize(size=(150,150)),\n",
        "        transforms.ToTensor(),\n",
        "        transforms.Normalize([0.485, 0.456, 0.406], \n",
        "                             [0.229, 0.224, 0.225])\n",
        "    ])\n",
        "\n",
        "# The training images are taken and their transformations are applied.\n",
        "dataset = datasets.ImageFolder(root = root_dir + '/train',\n",
        "                                      transform = image_transforms_train\n",
        "                                     )\n",
        "\n",
        "# Separate the training picture set into a training set 'train_loader' and a validation set 'val_loader'. \n",
        "dataset_size = len(dataset)\n",
        "dataset_indices = list(range(dataset_size))\n",
        "np.random.shuffle(dataset_indices)\n",
        "val_split_index = int(np.floor(0.2 * dataset_size))\n",
        "train_idx, val_idx = dataset_indices[val_split_index:], dataset_indices[:val_split_index]\n",
        "train_sampler = SubsetRandomSampler(train_idx)\n",
        "val_sampler = SubsetRandomSampler(val_idx)\n",
        "train_loader = DataLoader(dataset=dataset, shuffle=False, batch_size=100, sampler=train_sampler)\n",
        "val_loader = DataLoader(dataset=dataset, shuffle=False, batch_size=100, sampler=val_sampler)"
      ],
      "execution_count": null,
      "outputs": []
    },
    {
      "cell_type": "markdown",
      "metadata": {
        "id": "CtWLYTCJ-kxN"
      },
      "source": [
        "#Creation of the network \n",
        "\n",
        "In this section the CNN model is created to generate the convolutional neural network and carry out the classification of images. \n",
        "\n",
        "It consists of convolutional layers, MaxPool2d layers, ReLU activation functions, linear layers and is applied Dropout, too, so that the model does not over-adjust"
      ]
    },
    {
      "cell_type": "code",
      "metadata": {
        "id": "awAW1tO5-jvj"
      },
      "source": [
        "class MaskDetection(nn.Module):\n",
        "    def __init__(self):\n",
        "        super().__init__()\n",
        "        self.network = nn.Sequential(\n",
        "            nn.Conv2d(3, 100, kernel_size=3), # The output you get is --> 100*148*148\n",
        "            nn.ReLU(),\n",
        "            nn.MaxPool2d(2), # The output you get is --> 100*74*74. \n",
        "\n",
        "            nn.Conv2d(100, 100, kernel_size=3), # The output you get is --> 100*72*72\n",
        "            nn.ReLU(),\n",
        "            nn.MaxPool2d(2), # The output you get is --> 100*36*36\n",
        "\n",
        "            nn.Flatten(), \n",
        "            nn.Dropout(0.5),\n",
        "            nn.Linear(100*36*36, 50), # The input size of the first linear layer is the output size of the last MaxPool2d layer\n",
        "            nn.ReLU(),\n",
        "            nn.Linear(50, 2))\n",
        "        \n",
        "    def forward(self, xb):\n",
        "        return self.network(xb)"
      ],
      "execution_count": null,
      "outputs": []
    },
    {
      "cell_type": "markdown",
      "metadata": {
        "id": "zTidnTN6-pSa"
      },
      "source": [
        "# Training\n",
        "\n",
        "The training model is defined in this section.\n",
        "\n",
        "To do this, first define the function 'EarlyStopping' to be used in the training function 'train_model'.\n",
        "\n",
        "**The Early Stop process acts as follows:***\n",
        "\n",
        "Once the average validation error of all the interactions performed in an epoch has been calculated, if that validation error is less than the previous one, that is, in the previous epoch, the process is continued.\n",
        "\n",
        "At first, a counter variable should be created, which increases one by one if the validation error is greater than the validation error obtained in the previous epoch.\n",
        "\n",
        "This counter will increase to a certain number \"patience\" that is defined at the beginning.\n",
        "\n",
        "At the moment that the counter is greater or equal to \"patience\", the program is told to stop, since it is overfitting and the model that was previously obtained is preserved, that is to take and load the best weights that were kept.\n",
        "\n",
        "This way the model gets the best weights. \n",
        "\n",
        "In the event that the validation error is less than the previous one, the counter must be initialized to zero, and the execution continues.\n",
        "\n",
        "Whenever the validation error decreases (it is less than the previous one) this model must be saved so as not to lose those data during training.\n",
        "\n",
        "\n",
        "\n",
        "\n",
        "\n",
        "\n",
        "\n",
        "\n",
        "\n",
        "\n"
      ]
    },
    {
      "cell_type": "code",
      "metadata": {
        "id": "JJSKcmSx-rZ-"
      },
      "source": [
        "class EarlyStopping:\n",
        "    \"\"\"Early stops the training if validation loss doesn't improve after a given patience.\"\"\"\n",
        "    def __init__(self, patience=7, verbose=False, delta=0, path='checkpoint.pt', trace_func=print):\n",
        "        \"\"\"\n",
        "        Args:\n",
        "            patience (int): How long to wait after last time validation loss improved.\n",
        "                            Default: 7\n",
        "            verbose (bool): If True, prints a message for each validation loss improvement. \n",
        "                            Default: False\n",
        "            delta (float): Minimum change in the monitored quantity to qualify as an improvement.\n",
        "                            Default: 0\n",
        "            path (str): Path for the checkpoint to be saved to.\n",
        "                            Default: 'checkpoint.pt'\n",
        "            trace_func (function): trace print function.\n",
        "                            Default: print            \n",
        "        \"\"\"\n",
        "        self.patience = patience\n",
        "        self.verbose = verbose\n",
        "        self.counter = 0\n",
        "        self.best_score = None\n",
        "        self.early_stop = False\n",
        "        self.val_loss_min = np.Inf\n",
        "        self.delta = delta\n",
        "        self.path = path\n",
        "        self.trace_func = trace_func\n",
        "    def __call__(self, val_loss, model):\n",
        "\n",
        "        score = -val_loss\n",
        "\n",
        "        if self.best_score is None:\n",
        "            self.best_score = score\n",
        "            self.save_checkpoint(val_loss, model)\n",
        "        elif score < self.best_score + self.delta:\n",
        "            self.counter += 1\n",
        "            self.trace_func(f'EarlyStopping counter: {self.counter} out of {self.patience}')\n",
        "            if self.counter >= self.patience:\n",
        "                self.early_stop = True\n",
        "        else:\n",
        "            self.best_score = score\n",
        "            self.save_checkpoint(val_loss, model)\n",
        "            self.counter = 0\n",
        "\n",
        "    def save_checkpoint(self, val_loss, model):\n",
        "        '''Saves model when validation loss decrease.'''\n",
        "        if self.verbose:\n",
        "            self.trace_func(f'Validation loss decreased ({self.val_loss_min:.6f} --> {val_loss:.6f}).  Saving model ...')\n",
        "        torch.save(model.state_dict(), self.path)\n",
        "        self.val_loss_min = val_loss"
      ],
      "execution_count": null,
      "outputs": []
    },
    {
      "cell_type": "code",
      "metadata": {
        "id": "-Em1MQFM-wOp"
      },
      "source": [
        "def train_model(model, batch_size, patience, n_epochs):\n",
        "    \n",
        "    # List in which the training loss is stored as the model is trained.\n",
        "    train_losses = []\n",
        "    # List where the validation loss is stored as the model is trained.\n",
        "    valid_losses = []\n",
        "    # List in which the average of the training loss per epoch is stored as the model is trained.\n",
        "    avg_train_losses = []\n",
        "    # List in which the averages of the loss of validation per epoch are stored as the model is trained.\n",
        "    avg_valid_losses = [] \n",
        "    \n",
        "    # The early_stopping object is initialized\n",
        "    early_stopping = EarlyStopping(patience=patience, verbose=True)\n",
        "    \n",
        "    # All the epochs are covered\n",
        "    for epoch in range(1, n_epochs + 1):\n",
        "\n",
        "        ###################\n",
        "        # train the model #\n",
        "        ###################\n",
        "        # Puts the model in training mode\n",
        "        model.train() \n",
        "\n",
        "        # All training data \"train_loader\" is traversed\n",
        "        for batch, (data, target) in enumerate(train_loader, 1):\n",
        "\n",
        "            # Zero all gradients of the variables that the optimizer will update.\n",
        "            optimizer.zero_grad()\n",
        "\n",
        "            # Move to device, e.g. GPU. \n",
        "            data = data.to(device)\n",
        "            target = target.to(device)\n",
        "\n",
        "            # This is the forward step, the expected outputs are calculated by passing the data (train_loader images) to the model.\n",
        "            output = model(data)\n",
        "\n",
        "            # The training error is calculated using the criterion given below.\n",
        "            loss = criterion(output, target)\n",
        "\n",
        "            # This is the backward step, the loss gradient is calculated with respect to each parameter of the model.         \n",
        "            loss.backward()\n",
        "\n",
        "            # Model parameters are updated using the gradients calculated by backward step.       \n",
        "            optimizer.step()\n",
        "\n",
        "            # The training loss is stored in the list defined at the beginning.\n",
        "            train_losses.append(loss.item())\n",
        "\n",
        "        ######################    \n",
        "        # validate the model #\n",
        "        ######################\n",
        "        # The model is put into validation mode\n",
        "        model.eval() \n",
        "\n",
        "        # All validation data \"val_loader\" is traversed\n",
        "        for data, target in val_loader:\n",
        "\n",
        "            # Move to device, e.g. GPU. \n",
        "            data = data.to(device)            \n",
        "            target = target.to(device)\n",
        "\n",
        "            # This is the forward step, the expected outputs are calculated by passing the data (the val_loader images) to the model.\n",
        "            output = model(data)\n",
        "\n",
        "            # The training error is calculated using the criterion given below.\n",
        "            loss = criterion(output, target)\n",
        "\n",
        "            # The validation loss is stored in the list defined at the beginning\n",
        "            valid_losses.append(loss.item())\n",
        "\n",
        "        # Training / validation statistics are printed and the average loss during an epoch is calculated        \n",
        "        train_loss = np.average(train_losses)\n",
        "        valid_loss = np.average(valid_losses)\n",
        "        avg_train_losses.append(train_loss)\n",
        "        avg_valid_losses.append(valid_loss)\n",
        "        \n",
        "        epoch_len = len(str(n_epochs))\n",
        "        \n",
        "        print_msg = (f'[{epoch:>{epoch_len}}/{n_epochs:>{epoch_len}}] ' +\n",
        "                     f'train_loss: {train_loss:.5f} ' +\n",
        "                     f'valid_loss: {valid_loss:.5f}')\n",
        "        \n",
        "        print(print_msg)\n",
        "        \n",
        "        # Lists are 'cleared' to store new training and validation error values in the next epoch\n",
        "        train_losses = []\n",
        "        valid_losses = []\n",
        "\n",
        "        # Early_stopping needs validation loss to check if its value has decreased, and if it has, \n",
        "        #it will make a control point of the current model\n",
        "        early_stopping(valid_loss, model)\n",
        "        \n",
        "        if early_stopping.early_stop:\n",
        "            print(\"Early stopping\")\n",
        "            break\n",
        "        \n",
        "    # The last control point is loaded with the best model\n",
        "    model.load_state_dict(torch.load('checkpoint.pt'))\n",
        "\n",
        "    # The final model, its average training error and its average validation error are returned.\n",
        "    return  model, avg_train_losses, avg_valid_losses"
      ],
      "execution_count": null,
      "outputs": []
    },
    {
      "cell_type": "markdown",
      "metadata": {
        "id": "GJOg_n0TGWam"
      },
      "source": [
        "After defining the EarlyStopping function and the training function, we proceed to train our model.\n",
        "\n",
        "*   Create an instance of the model 'modelMask' which is the CNN network that has been previously defined.\n",
        "\n",
        "*   The device to be used during training is defined as 'cuda'.\n",
        "\n",
        "*   The optimizer to be used is defined. In this work the \"Adam optimizer\" will be used, which is considered as a method of stochastic optimization. It is a technique that implements the adaptive learning rate, while in the \"normal SGD optimizer\" it does not because the learning rate has an equivalent kind of effect for all weights / model parameters.\n",
        "\n",
        "*   The cost function \"Cross Entropy\" is set as the criterion for calculating the training and validation error.\n",
        "\n",
        "Finally, the function 'train_model' is passed the parameters (model, batch_size, patience, number of epochs)\n",
        "\n",
        "\n",
        "\n",
        "\n"
      ]
    },
    {
      "cell_type": "code",
      "metadata": {
        "id": "ZdszB4Gc-ybI",
        "colab": {
          "base_uri": "https://localhost:8080/"
        },
        "outputId": "1f1fcc90-3f91-4675-a13c-baa08cc2c2a5"
      },
      "source": [
        "modelMask = MaskDetection()\n",
        "device = torch.device(\"cuda:0\" if torch.cuda.is_available() else \"cpu\")\n",
        "if torch.cuda.is_available():\n",
        "    modelMask.cuda()\n",
        "\n",
        "optimizer = optim.Adam(modelMask.parameters(), lr=0.001)\n",
        "criterion = torch.nn.CrossEntropyLoss()\n",
        "\n",
        "model, train_loss, valid_loss = train_model(modelMask, 100, 7, 100)"
      ],
      "execution_count": null,
      "outputs": [
        {
          "output_type": "stream",
          "text": [
            "[  1/100] train_loss: 0.31083 valid_loss: 0.09004\n",
            "Validation loss decreased (inf --> 0.090037).  Saving model ...\n",
            "[  2/100] train_loss: 0.08187 valid_loss: 0.12871\n",
            "EarlyStopping counter: 1 out of 7\n",
            "[  3/100] train_loss: 0.07126 valid_loss: 0.09084\n",
            "EarlyStopping counter: 2 out of 7\n",
            "[  4/100] train_loss: 0.06642 valid_loss: 0.08579\n",
            "Validation loss decreased (0.090037 --> 0.085795).  Saving model ...\n",
            "[  5/100] train_loss: 0.06563 valid_loss: 0.08613\n",
            "EarlyStopping counter: 1 out of 7\n",
            "[  6/100] train_loss: 0.06494 valid_loss: 0.09519\n",
            "EarlyStopping counter: 2 out of 7\n",
            "[  7/100] train_loss: 0.05896 valid_loss: 0.05529\n",
            "Validation loss decreased (0.085795 --> 0.055288).  Saving model ...\n",
            "[  8/100] train_loss: 0.05381 valid_loss: 0.05976\n",
            "EarlyStopping counter: 1 out of 7\n",
            "[  9/100] train_loss: 0.04539 valid_loss: 0.05997\n",
            "EarlyStopping counter: 2 out of 7\n",
            "[ 10/100] train_loss: 0.04552 valid_loss: 0.05872\n",
            "EarlyStopping counter: 3 out of 7\n",
            "[ 11/100] train_loss: 0.04752 valid_loss: 0.04891\n",
            "Validation loss decreased (0.055288 --> 0.048909).  Saving model ...\n",
            "[ 12/100] train_loss: 0.03899 valid_loss: 0.07408\n",
            "EarlyStopping counter: 1 out of 7\n",
            "[ 13/100] train_loss: 0.04482 valid_loss: 0.06366\n",
            "EarlyStopping counter: 2 out of 7\n",
            "[ 14/100] train_loss: 0.03664 valid_loss: 0.05574\n",
            "EarlyStopping counter: 3 out of 7\n",
            "[ 15/100] train_loss: 0.03132 valid_loss: 0.04497\n",
            "Validation loss decreased (0.048909 --> 0.044967).  Saving model ...\n",
            "[ 16/100] train_loss: 0.03356 valid_loss: 0.06163\n",
            "EarlyStopping counter: 1 out of 7\n",
            "[ 17/100] train_loss: 0.02950 valid_loss: 0.04109\n",
            "Validation loss decreased (0.044967 --> 0.041090).  Saving model ...\n",
            "[ 18/100] train_loss: 0.02728 valid_loss: 0.05383\n",
            "EarlyStopping counter: 1 out of 7\n",
            "[ 19/100] train_loss: 0.02880 valid_loss: 0.05147\n",
            "EarlyStopping counter: 2 out of 7\n",
            "[ 20/100] train_loss: 0.02215 valid_loss: 0.06085\n",
            "EarlyStopping counter: 3 out of 7\n",
            "[ 21/100] train_loss: 0.02184 valid_loss: 0.05113\n",
            "EarlyStopping counter: 4 out of 7\n",
            "[ 22/100] train_loss: 0.01993 valid_loss: 0.05325\n",
            "EarlyStopping counter: 5 out of 7\n",
            "[ 23/100] train_loss: 0.02351 valid_loss: 0.05791\n",
            "EarlyStopping counter: 6 out of 7\n",
            "[ 24/100] train_loss: 0.01744 valid_loss: 0.05080\n",
            "EarlyStopping counter: 7 out of 7\n",
            "Early stopping\n"
          ],
          "name": "stdout"
        }
      ]
    },
    {
      "cell_type": "markdown",
      "metadata": {
        "id": "IKJOFSEj_EBX"
      },
      "source": [
        "# Classification of test images"
      ]
    },
    {
      "cell_type": "markdown",
      "metadata": {
        "id": "nD2s-QL3IxyQ"
      },
      "source": [
        "The 'image_loader' function is created in order to take the test images by order one at a time to classify them."
      ]
    },
    {
      "cell_type": "code",
      "metadata": {
        "id": "1cBP79dI_GCQ"
      },
      "source": [
        "def image_loader(image_name):\n",
        "    \"\"\"load image, returns cuda tensor\"\"\"\n",
        "    image = Image.open(image_name)\n",
        "    image = image_transforms_test(image).float()\n",
        "    image = Variable(image, requires_grad=True)\n",
        "    image = image.unsqueeze(0)  \n",
        "    return image.cuda() "
      ],
      "execution_count": null,
      "outputs": []
    },
    {
      "cell_type": "markdown",
      "metadata": {
        "id": "vWCR20r_JG6m"
      },
      "source": [
        "Two lists are created: probab and predictions.\n",
        "\n",
        "In \"probab\" the probabilities of a mask appearing in the photos are stored. \n",
        "\n",
        "And predictions are stored in \"redictions\"."
      ]
    },
    {
      "cell_type": "code",
      "metadata": {
        "id": "xALDi0RV_I90"
      },
      "source": [
        "probab=[]\n",
        "predictions = []\n",
        "\n",
        "for i in range(1,1527):\n",
        "  # Images are taken one at a time in order.\n",
        "  image = image_loader('./data/test/test/'+str(i)+'.jpg')\n",
        "  # A test image is passed by the trained model.\n",
        "  scores = model(image)  \n",
        "  # Scores are passed through the Softmax function so that the vector of scores becomes another vector \n",
        "  # of real values within the range [0,1].\n",
        "  prob = F.softmax(scores, dim=1)\n",
        "  # Probabilities become a list\n",
        "  # For each image, there is the probability that there is a mask and the probability that there is no mask.\n",
        "  prob2 = prob.tolist() \n",
        "  prob3 = prob2[0]\n",
        "  # It becomes an array in order to take only the probability that there is mask in each image.  \n",
        "  my_array = np.array(prob3)\n",
        "  # The probabilities of having a mask in the previously defined list are stored. \n",
        "  probab.append(my_array[0]) \n",
        "  # Predictions are calculated\n",
        "  _, preds = scores.max(1)\n",
        "  # Predictions are stored in the previously defined list.\n",
        "  predictions.append(preds.data.item())"
      ],
      "execution_count": null,
      "outputs": []
    },
    {
      "cell_type": "markdown",
      "metadata": {
        "id": "gVQmeqNR_Ql4"
      },
      "source": [
        "#Save file \". csv\" \n",
        "\n",
        "In this section, the probabilities that in the images there is mask, are saved in a.csv file. \n",
        "\n",
        "This '.csv' is the one that got into the Kaggle competition."
      ]
    },
    {
      "cell_type": "code",
      "metadata": {
        "id": "Gl1Qg--t_S1l"
      },
      "source": [
        "ids = [i+1 for i in range(1526)]\n",
        "\n",
        "sampleSubmission = pd.DataFrame({'Id':ids,'Predicted':probab})\n",
        "sampleSubmission.to_csv('Submision.csv',index=False)"
      ],
      "execution_count": null,
      "outputs": []
    },
    {
      "cell_type": "markdown",
      "metadata": {
        "id": "f7m1kbaZ_Te6"
      },
      "source": [
        "# ROC Curve \n",
        "\n",
        "In this section we proceed to paint the ROC curve since the evaluation metric to measure the performance of the classifier is \"AUC\" \"Area Under the curve\", which is based on the false alarm probability and the detection probability."
      ]
    },
    {
      "cell_type": "code",
      "metadata": {
        "id": "vuleHE1X_WWk"
      },
      "source": [
        "import pandas as pd\n",
        "# The file '.csv' is loaded.\n",
        "datos = pd.read_csv(\"testLabels.csv\")\n",
        "# All rows and all columns of the file data are taken.\n",
        "etiquetas1 = datos.iloc[:,:]\n",
        "\n",
        "# Using the Python \"drop\" function, the Id column is deleted, as it is not needed. \n",
        "etiquetas = etiquetas1.drop('Id',axis=1)\n",
        "\n",
        "# The values are stored in a list so you can work with it and paint the ROC curve. \n",
        "etiquetasList = []\n",
        "for i in range (len(etiquetas)):\n",
        "  etiquetasList.append(etiquetas.iloc[i,0])"
      ],
      "execution_count": null,
      "outputs": []
    },
    {
      "cell_type": "code",
      "metadata": {
        "colab": {
          "base_uri": "https://localhost:8080/",
          "height": 472
        },
        "id": "YBXh4uUI_mj8",
        "outputId": "e1233b5d-94b5-4d30-d3ba-b781b0f5f64c"
      },
      "source": [
        "# Calculate the ROC curve and the ROC area for each class.\n",
        "fpr = dict()\n",
        "tpr = dict()\n",
        "roc_auc = dict()\n",
        "# There are two classes since it is a binary classification problem.\n",
        "n_classes = 2\n",
        "\n",
        "# Calculate the True Positive Rate and the False Positive Rate. \n",
        "fpr, tpr, _ = roc_curve(etiquetasList, probab)\n",
        "# Calculate the value of the \"Area under the curve\"\n",
        "roc_auc = auc(fpr, tpr)\n",
        "\n",
        "# The ROC curve is drawn.\n",
        "plt.figure()\n",
        "lw = 2\n",
        "plt.plot(fpr, tpr, color='darkorange',\n",
        "         lw=lw, label='ROC curve (area = %0.2f)' % roc_auc)\n",
        "plt.plot([0, 1], [0, 1], color='navy', lw=lw, linestyle='--')\n",
        "plt.xlim([0.0, 1.0])\n",
        "plt.ylim([0.0, 1.05])\n",
        "plt.xlabel('False Positive Rate')\n",
        "plt.ylabel('True Positive Rate')\n",
        "plt.title('Receiver operating characteristic example')\n",
        "plt.legend(loc=\"lower right\")\n",
        "plt.show()"
      ],
      "execution_count": null,
      "outputs": [
        {
          "output_type": "display_data",
          "data": {
            "image/png": "[encoded data removed]",
            "text/plain": [
              "<Figure size 640x480 with 1 Axes>"
            ]
          },
          "metadata": {
            "tags": []
          }
        }
      ]
    },
    {
      "cell_type": "markdown",
      "metadata": {
        "id": "iXJ9ixW-_p8B"
      },
      "source": [
        "# Confusion Matrix \n",
        "\n",
        "Another procedure to measure the performance of the classifier is to represent the confusion matrix."
      ]
    },
    {
      "cell_type": "markdown",
      "metadata": {
        "id": "gpOTHdMqLcFu"
      },
      "source": [
        "'0' means that the image had a mask. \n",
        "\n",
        "'1' means that the image did not have a mask.\n",
        "\n"
      ]
    },
    {
      "cell_type": "code",
      "metadata": {
        "id": "f2WYd2L3_r_8"
      },
      "source": [
        "predictionsNew = []\n",
        "\n",
        "for i in range (len(predictions)):\n",
        "  if predictions[i] == 1:\n",
        "    predictionsNew.append(0)\n",
        "  elif predictions[i] == 0:\n",
        "    predictionsNew.append(1)\n"
      ],
      "execution_count": null,
      "outputs": []
    },
    {
      "cell_type": "markdown",
      "metadata": {
        "id": "sx9KohRTLg_G"
      },
      "source": [
        "To paint the confusion matrix a function called \"plot_confusion_matrix\" has been defined."
      ]
    },
    {
      "cell_type": "code",
      "metadata": {
        "colab": {
          "base_uri": "https://localhost:8080/",
          "height": 558
        },
        "id": "65rAJNeb_uBN",
        "outputId": "ec432b9c-9a52-446a-cfef-d133840ec43b"
      },
      "source": [
        "def plot_confusion_matrix(cm, title='Confusion matrix', cmap=plt.cm.Oranges):\n",
        "    plt.imshow(cm, interpolation='nearest', cmap=cmap)\n",
        "    plt.title(title)\n",
        "    plt.colorbar()\n",
        "    tick_marks = np.arange(cm.shape[1])\n",
        "    plt.xticks(tick_marks)\n",
        "    ax = plt.gca()\n",
        "    ax.set_xticklabels((ax.get_xticks()).astype(str))\n",
        "    plt.yticks(tick_marks)\n",
        "\n",
        "    thresh = cm.max() / 2.\n",
        "    for i, j in itertools.product(range(cm.shape[0]), range(cm.shape[1])):\n",
        "        plt.text(j, i, format(cm[i, j], '.1f'),\n",
        "                 horizontalalignment=\"center\",\n",
        "                 color=\"white\" if cm[i, j] > thresh else \"black\")\n",
        "\n",
        "    plt.tight_layout()\n",
        "    plt.ylabel('True label')\n",
        "    plt.xlabel('Predicted label')\n",
        "\n",
        "cm = confusion_matrix(etiquetasList, predictionsNew)\n",
        "np.set_printoptions(precision=1) \n",
        "print('Confusion matrix, without normalization')\n",
        "print(cm)\n",
        "fig, ax = plt.subplots()\n",
        "plot_confusion_matrix(cm)\n",
        "\n",
        "plt.show()"
      ],
      "execution_count": null,
      "outputs": [
        {
          "output_type": "stream",
          "text": [
            "Confusion matrix, without normalization\n",
            "[[1183    7]\n",
            " [  21  315]]\n"
          ],
          "name": "stdout"
        },
        {
          "output_type": "display_data",
          "data": {
            "image/png": "[encoded data removed]",
            "text/plain": [
              "<Figure size 640x480 with 2 Axes>"
            ]
          },
          "metadata": {
            "tags": []
          }
        }
      ]
    }
  ]
}